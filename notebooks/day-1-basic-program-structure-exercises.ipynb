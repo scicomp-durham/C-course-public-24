{
 "cells": [
  {
   "cell_type": "markdown",
   "metadata": {},
   "source": [
    "# Day 1: Basic program structure"
   ]
  },
  {
   "cell_type": "markdown",
   "metadata": {},
   "source": [
    "### Topics\n",
    "\n",
    "  - A basic C program\n",
    "    - The `main` function\n",
    "    - Header files\n",
    "  - Standard headers\n",
    "  - Basic output\n",
    "  - The `#include` directive"
   ]
  },
  {
   "cell_type": "markdown",
   "metadata": {},
   "source": [
    "In the introduction you saw the following code when learning how to use these notebooks:\n",
    "\n",
    "```c\n",
    " 1 #include <stdio.h>\n",
    " 2 \n",
    " 3 int main(void) {\n",
    " 4     printf(\"hello, world!\\n\");\n",
    " 5     return 0;\n",
    " 6 }\n",
    "```\n",
    "\n",
    "These 6 lines demonstrate the basic structure of a C program. This notebook describes that structure as well as some of the fundamentals of programming in C."
   ]
  },
  {
   "cell_type": "markdown",
   "metadata": {},
   "source": [
    "------\n",
    "### The `main` function"
   ]
  },
  {
   "cell_type": "markdown",
   "metadata": {},
   "source": [
    "Every C and C++ program must define a `main` function which is where the operating system will start the program. It is the job of the programmer to define (write) `main` and to return an integer value representing the success (or failure) of the program.\n",
    "\n",
    "Conventionally, a return value from `main` of `0` means the program was successful and anything else means there was a failure (the exact mode of failure depends on the nature of the program).\n",
    "\n",
    "This line indicates the start of `main`:\n",
    "\n",
    "```c\n",
    " 3 int main(void) {\n",
    "```\n",
    "\n",
    "The `int` keyword (for integer) indicates that the `main` function returns an integer value, while the `(void)` indicates that the function accepts zero arguments.\n",
    "\n",
    "The left brace `{` indicates the start of the function itself. All code upto the matching right brace `}` constitutes the body of the function.\n",
    "\n",
    "The line:\n",
    "\n",
    "```c\n",
    " 4     printf(\"hello, world!\\n\"); \n",
    "```\n",
    "\n",
    "Is a call to the `printf` function which prints its arguments. Its argument `\"hello, world!\\n\"` is a string ending with `'\\n'` which is a so-called \"escape sequence\" indicating the end of a line. The whole statement is terminated with a semi-colon `;`.\n",
    "\n",
    "The final line of `main`:\n",
    "\n",
    "```c\n",
    " 5     return 0; \n",
    "```\n",
    "\n",
    "Indicates the end of the program, and returns a value of `0` to the operating system."
   ]
  },
  {
   "cell_type": "markdown",
   "metadata": {},
   "source": [
    "In the code cell below, change the program so that it greets you with your own name:"
   ]
  },
  {
   "cell_type": "code",
   "execution_count": null,
   "metadata": {},
   "outputs": [],
   "source": [
    "//// hello-me.c\n",
    "#include <stdio.h>\n",
    "\n",
    "int main(void) {\n",
    "    printf(\"hello, world!\\n\");\n",
    "    return 0;\n",
    "}"
   ]
  },
  {
   "cell_type": "markdown",
   "metadata": {},
   "source": [
    "For detailed reference information on `main`, see:\n",
    "\n",
    "- [The `main` function in C](https://en.cppreference.com/w/c/language/main_function)\n",
    "- [The `main` function in C++](https://en.cppreference.com/w/cpp/language/main_function)"
   ]
  },
  {
   "cell_type": "markdown",
   "metadata": {},
   "source": [
    "------\n",
    "### Header files"
   ]
  },
  {
   "cell_type": "markdown",
   "metadata": {},
   "source": [
    "In order to use the `printf` function, the code must first include some information about the function. This information is stored in the file `stdio.h` (a \"header\" file, which is known to your compiler), and is provided with the line:\n",
    "\n",
    "```c\n",
    " 1 #include <stdio.h>\n",
    "```\n",
    "\n",
    "Lines beginning with `#` are not code but rather **pre-processor directives** (instructions to the compiler to modify the program before compilation actually takes place). This line tells the compiler to substitute in-place the contents of the specified file. This ensures that all information needed to use the features provided by the header is made available during compilation.\n",
    "\n",
    "The C standard defines a set of standard header files, a useful reference on them is available [here](https://en.cppreference.com/w/c/header)."
   ]
  },
  {
   "cell_type": "markdown",
   "metadata": {},
   "source": [
    "-----------------\n",
    "### Standard headers"
   ]
  },
  {
   "cell_type": "markdown",
   "metadata": {},
   "source": [
    "Like any other language, C has a standard library (defined in the C standard and implemented by compiler developers). To access this functionality, we need to use the necessary header files in our source code (e.g. `#include <stdio.h>`).\n",
    "\n",
    "This page lists the C standard headers: **[C Standard Library header files](https://en.cppreference.com/w/c/header)**. Familiarise yourself with the available headers and what they are each for.\n",
    "\n",
    "In which headers would you find the following:\n",
    "\n",
    "1. Functions for printing formatted output (to `stdout`, a file or a buffer).\n",
    "2. A function for comparing two strings.\n",
    "3. The base-10 logarithm function `log10`.\n",
    "4. A function for getting the imaginary part of a complex number.\n",
    "5. Functions for opening and closing files.\n",
    "6. Functions for managing memory (allocating and deallocating memory).\n"
   ]
  },
  {
   "cell_type": "markdown",
   "metadata": {},
   "source": [
    "-----------------\n",
    "### Variable declarations & definitions"
   ]
  },
  {
   "cell_type": "markdown",
   "metadata": {},
   "source": [
    "1. In the cell below, declare variables `b` and `c` with the values -4 and -12 respectively. What should their type be?"
   ]
  },
  {
   "cell_type": "code",
   "execution_count": null,
   "metadata": {},
   "outputs": [],
   "source": [
    "//// variables.c\n",
    "#include <stdio.h>\n",
    "\n",
    "int main(void) {\n",
    "    int a = 1;\n",
    "    \n",
    "    // add b and c here...\n",
    "    ...\n",
    "\n",
    "    printf(\"a=%d, b=%d, c=%d\\n\", a, b, c);\n",
    "    return 0;\n",
    "}"
   ]
  },
  {
   "cell_type": "markdown",
   "metadata": {},
   "source": [
    "2. If `a`, `b` and `c` from the cell above are the coefficients of a quadratic polynomial, define a `double` called `disc` equal to the discriminant of this polynomial (*hint*: the discriminant of the polynomial $ax^2 + bx + c$ is $b^2 - 4 a c$):"
   ]
  },
  {
   "cell_type": "code",
   "execution_count": null,
   "metadata": {},
   "outputs": [],
   "source": [
    "//// variables2.c\n",
    "#include <stdio.h>\n",
    "\n",
    "int main(void) {\n",
    "    int a = 1;\n",
    "    \n",
    "    // add b and c here...\n",
    "    ...\n",
    "        \n",
    "    printf(\"a=%d, b=%d, c=%d\\n\", a, b, c);\n",
    "    \n",
    "    // calculate disc here...\n",
    "    double disc = ...\n",
    "        \n",
    "    printf(\"disc=%f\\n\", disc);\n",
    "    return 0;\n",
    "}"
   ]
  },
  {
   "cell_type": "markdown",
   "metadata": {},
   "source": [
    "3. Write a program which calculates the weight of a cylinder of height $1.25 m $, radius $0.355 m$ and density $1.25 kg / m^3 $ and stores the result in a variable `weight` (*hint*: the weight of an objest is equal to $W = mg$ where $m$ is the mass and $g$ is the acceleration due to gravity, $9.81 m/ s^2$ )"
   ]
  },
  {
   "cell_type": "code",
   "execution_count": null,
   "metadata": {},
   "outputs": [],
   "source": [
    "//// cylinder-weight.c\n",
    "#include <stdio.h>\n",
    "\n",
    "int main(void) {\n",
    "    ...\n",
    "    return 0;\n",
    "}"
   ]
  },
  {
   "cell_type": "markdown",
   "metadata": {},
   "source": [
    "4. Suppose a bank issues a loan which earns 1.25% interest per month (i.e. an initial loan of £1000 will be worth £1012.50 after 1 month). Complete the program below to calculate:\n",
    "\n",
    "  - `interest_after_3_years`: the total interest earned if a loan is taken out over 3 years.\n",
    "  - `monthly_payment_GBP`: the monthly repayments needed to pay off a loan of £7,500 over 5 years.\n",
    "\n",
    "Hints:\n",
    "\n",
    " - if the loan earns 1.25% interest per month, by what factor $f$ is it multiplied per month?\n",
    " - what is the value of this multiplier after $n$ months?"
   ]
  },
  {
   "cell_type": "code",
   "execution_count": null,
   "metadata": {},
   "outputs": [],
   "source": [
    "//// loan-amount.c\n",
    "// this option allows you to use math.h if you want to:\n",
    "//% LDFLAGS -lm\n",
    "\n",
    "#include <stdio.h>\n",
    "#include <math.h>\n",
    "\n",
    "int main(void) {\n",
    "    double monthly_interest_rate = 1.25;  // percent\n",
    "    double interest_after_3_years = 0.00; // percent\n",
    "    \n",
    "    printf(\"1-month interest rate:    %6.2f%%\\n\", monthly_interest_rate);\n",
    "    printf(\"3-year  interest accrued: %6.2f%%\\n\", interest_after_3_years);\n",
    "    \n",
    "    double initial_amount_GBP = 7500.00; // loan amount, GBP\n",
    "    double monthly_payment_GBP = 0.00;   // monthly repayments (including interest) over 5 years, GBP\n",
    "    \n",
    "    printf(\"monthly repayments on £%.2f loan: £%.2f\\n\", initial_amount_GBP, monthly_payment_GBP);\n",
    "    \n",
    "    return 0;\n",
    "}"
   ]
  },
  {
   "cell_type": "markdown",
   "metadata": {},
   "source": [
    "-----------------\n",
    "### Basic output\n",
    "\n",
    "<!-- - Printing a variable (and format specifiers)\n",
    "  - print some variables\n",
    "  - print the result of a calculation\n",
    "  - control the format -->"
   ]
  },
  {
   "cell_type": "markdown",
   "metadata": {},
   "source": [
    "You've seen some examples above of how to print variables using `printf`, as well as how to control the format of the output. `printf` uses **conversion specifiers** (placeholders like `%d`) to describe how to interpret the variables to print.\n",
    "\n",
    "You can read more about `printf` conversion specifiers here: [`printf` conversion specifiers](https://en.cppreference.com/w/c/io/fprintf#:~:text=The%20following%20format%20specifiers%20are%20available).\n",
    "\n",
    "Conversion specifiers can control:\n",
    "\n",
    "  - the width of a printed value\n",
    "  - the alignment (left/right)\n",
    "  - padding (e.g. with zeros)\n",
    "  - precision (e.g. decimal places)\n",
    "\n",
    "Questions:\n",
    "\n",
    "  1. What types are the `%d`, `%f`, `%s` and `%e` used to print?\n",
    "  2. What does the format specifier `%6d` mean?\n",
    "  3. What does the format specifier `%2.6f` mean?"
   ]
  },
  {
   "cell_type": "markdown",
   "metadata": {},
   "source": [
    "4. In the code cell below, write code which prints the value of the `double` variable `x` in the following formats:\n",
    "\n",
    "    1. in decimal notation, right-justified with a field width of 11 and 2 decimal places.\n",
    "    2. in decimal notation, left-justified with a field width of 9 and 3 decimal places.\n",
    "    3. in scientific notation, right-justified with a field width of 16 and 4 decimal places.\n",
    "    4. in scientific notation, right-justified with a field width of 12, 2 decimal places and padded with leading zeros."
   ]
  },
  {
   "cell_type": "code",
   "execution_count": null,
   "metadata": {},
   "outputs": [],
   "source": [
    "//// print-formats.c\n",
    "#include <stdio.h>\n",
    "\n",
    "int main(void) {\n",
    "    double x = 1234.0123456789;\n",
    "    return 0;\n",
    "}"
   ]
  },
  {
   "cell_type": "markdown",
   "metadata": {},
   "source": [
    "5. Take a look at the family of [printf-like functions](https://en.cppreference.com/w/c/io/fprintf) in the standard library and consider these questions:\n",
    "  \n",
    "    1. Where does `printf` send its results to be printed?\n",
    "    2. How does `fprintf` determine where to send its results to be printed?\n",
    "    3. What happens when you use `fprintf` with the [`stderr` output stream](https://en.cppreference.com/w/c/io/std_streams)?\n",
    "  \n",
    "You might want to use the code cell below to experiment with `printf` and `fprintf`:"
   ]
  },
  {
   "cell_type": "code",
   "execution_count": null,
   "metadata": {},
   "outputs": [],
   "source": [
    "//// experiment-with-printing.c\n",
    "//% CFLAGS -Wall -Werror\n",
    "\n",
    "int main(void) {\n",
    "    return 0;\n",
    "}"
   ]
  },
  {
   "cell_type": "markdown",
   "metadata": {},
   "source": [
    "-----------------\n",
    "### The `#include` directive"
   ]
  },
  {
   "cell_type": "markdown",
   "metadata": {},
   "source": [
    "Lines beginning with `#` are instructions (directives) to the pre-processor. The pre-processor is a part of the compiler which executes before any source code is actually compiled and it provides what are essentially sophisticated text substitution & replacement capabilities.\n",
    "\n",
    "For more information on the pre-processor, see: [The Pre-processor](https://en.cppreference.com/w/c/preprocessor)"
   ]
  },
  {
   "cell_type": "markdown",
   "metadata": {},
   "source": [
    "#### `#include`\n",
    "\n",
    "This directive searches for and includes a specified file, e.g. a standard header file with `#include <stdio.h>`.\n",
    "\n",
    "This directive is somewhat analogous to the `import` statement in Python.\n",
    "\n",
    "Using `<>` indicates a search among files under the control of the compiler, typically among a set of standard include directories, also housing the C standard library, along with include directories for system-wide 3rd-party software.\n",
    "\n",
    "Using `\"\"` indicates a search for files not necessarily belonging to the compiler, typically starting with the directory containing the current file.\n"
   ]
  },
  {
   "cell_type": "markdown",
   "metadata": {},
   "source": [
    "1. Execute the code cell below and examine the output. What is the reason for this output? What is missing from the code?"
   ]
  },
  {
   "cell_type": "code",
   "execution_count": null,
   "metadata": {},
   "outputs": [],
   "source": [
    "//// fix-me.c\n",
    "//% LDFLAGS -lm\n",
    "\n",
    "int main(void) {\n",
    "    double alpha = 3.14159;\n",
    "    printf(\"sin(%.2f)=%.2f\\n\", alpha, sin(alpha));\n",
    "}"
   ]
  },
  {
   "cell_type": "markdown",
   "metadata": {},
   "source": [
    "2. Execute this script to create an empty file called `stdio.h` in the notebook's directory. What does the pre-processor then do with the following code? What mistake has been made in this code?"
   ]
  },
  {
   "cell_type": "code",
   "execution_count": null,
   "metadata": {},
   "outputs": [],
   "source": [
    "%%file stdio.h\n",
    "// this is an empty file in the current directory called \"stdio.h\""
   ]
  },
  {
   "cell_type": "code",
   "execution_count": null,
   "metadata": {},
   "outputs": [],
   "source": [
    "//// include.c\n",
    "//% CFLAGS -Wall -Werror\n",
    "#include \"stdio.h\"\n",
    "\n",
    "int main(void) {\n",
    "    printf(\"hello!\\n\");\n",
    "    return 0;\n",
    "}"
   ]
  }
 ],
 "metadata": {
  "kernelspec": {
   "display_name": "Auto-compile C/C++ (clang)",
   "language": "",
   "name": "autocompile-clang"
  },
  "language_info": {
   "codemirror_mode": "text/x-csrc",
   "name": "c"
  }
 },
 "nbformat": 4,
 "nbformat_minor": 4
}
